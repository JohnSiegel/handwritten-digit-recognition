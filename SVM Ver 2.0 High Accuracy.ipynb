{
 "cells": [
  {
   "cell_type": "code",
   "execution_count": 1,
   "id": "5ecdf702",
   "metadata": {},
   "outputs": [],
   "source": [
    "import numpy as np\n",
    "import pandas as pd\n",
    "from quadprog_wrapper import solve_quadprog"
   ]
  },
  {
   "cell_type": "code",
   "execution_count": 2,
   "id": "60839c43",
   "metadata": {},
   "outputs": [],
   "source": [
    "def kernel_svm_train(data, labels):\n",
    "    g_mat = (np.dot(data.T, data) + 1) ** 2\n",
    "    n = g_mat.shape[0]\n",
    "    hes = np.outer(labels, labels) * g_mat\n",
    "    w = np.ones(n)\n",
    "    coef = np.zeros((1, n))\n",
    "    coef[0, :] = labels\n",
    "\n",
    "    # Call quadratic program with provided inputs.\n",
    "    a = solve_quadprog(hes, w, coef, np.zeros(1), None, None, np.zeros(n), 1.0)\n",
    "\n",
    "    # process optimized alphas to only store support vectors and alphas that have nonnegligible support\n",
    "    error = 1e-6\n",
    "    vec_idx = a > error\n",
    "    v = data[:, vec_idx]\n",
    "    w_fix = a[vec_idx]\n",
    "    l = labels[vec_idx]\n",
    "\n",
    "    # find all alphas that represent points on the decision margin\n",
    "    marg_a = np.logical_and(a > error, a < 1.0 - error)\n",
    "\n",
    "    # compute the bias value\n",
    "    if np.any(marg_a):\n",
    "        b = np.mean(labels[marg_a].T - (a * labels).T.dot(g_mat[:, marg_a]))\n",
    "    else:\n",
    "        # there were no support vectors on the margin (this should only happen due to numerical errors)\n",
    "        b = 0\n",
    "        \n",
    "    return v, w_fix, l, b"
   ]
  },
  {
   "cell_type": "code",
   "execution_count": 3,
   "id": "0209c5ab",
   "metadata": {},
   "outputs": [],
   "source": [
    "def svm_predict(data, w, b, v, l):\n",
    "    gram = (np.dot(data.T, v) + 1) ** 2\n",
    "    scores = gram.dot(w * l) + b\n",
    "    return scores.ravel()"
   ]
  },
  {
   "cell_type": "code",
   "execution_count": 4,
   "id": "627317a8",
   "metadata": {},
   "outputs": [],
   "source": [
    "def relabel(num, sample_set):\n",
    "    binary = sample_set.copy(deep=True)\n",
    "    binary.loc[binary['label'] != num, 'label'] = -1\n",
    "    binary.loc[binary['label'] == num, 'label'] = 1\n",
    "    return binary"
   ]
  },
  {
   "cell_type": "code",
   "execution_count": 5,
   "id": "e73662bd",
   "metadata": {},
   "outputs": [],
   "source": [
    "def training(data):\n",
    "    raw_set = data.copy(deep=True)\n",
    "    raw_set_label = raw_set['label']\n",
    "    raw_set_label = raw_set_label.values\n",
    "    raw_set_data = raw_set.drop(columns=['label'], inplace=True)\n",
    "    raw_set_data = raw_set.values/255.0\n",
    "    [vec, w, vec_lb, b] = kernel_svm_train(raw_set_data.T, raw_set_label)\n",
    "    return w, b, vec, vec_lb"
   ]
  },
  {
   "cell_type": "code",
   "execution_count": 6,
   "id": "8d1d5ce9",
   "metadata": {},
   "outputs": [],
   "source": [
    "trainData = pd.read_csv('train.csv')\n",
    "testData = pd.read_csv('test.csv')"
   ]
  },
  {
   "cell_type": "code",
   "execution_count": 7,
   "id": "3c0af1b4",
   "metadata": {},
   "outputs": [],
   "source": [
    "group = trainData.groupby('label')\n",
    "zero = pd.DataFrame(group.get_group(0))\n",
    "one = pd.DataFrame(group.get_group(1))\n",
    "two = pd.DataFrame(group.get_group(2))\n",
    "three = pd.DataFrame(group.get_group(3))\n",
    "four = pd.DataFrame(group.get_group(4))\n",
    "five = pd.DataFrame(group.get_group(5))\n",
    "six = pd.DataFrame(group.get_group(6))\n",
    "seven = pd.DataFrame(group.get_group(7))\n",
    "eight = pd.DataFrame(group.get_group(8))\n",
    "nine = pd.DataFrame(group.get_group(9))"
   ]
  },
  {
   "cell_type": "code",
   "execution_count": 8,
   "id": "95bf2211",
   "metadata": {},
   "outputs": [],
   "source": [
    "zero_data = zero.drop(columns=['label'])\n",
    "one_data = one.drop(columns=['label'])\n",
    "two_data = two.drop(columns=['label'])\n",
    "three_data = three.drop(columns=['label'])\n",
    "four_data = four.drop(columns=['label'])\n",
    "five_data = five.drop(columns=['label'])\n",
    "six_data = six.drop(columns=['label'])\n",
    "seven_data = seven.drop(columns=['label'])\n",
    "eight_data = eight.drop(columns=['label'])\n",
    "nine_data = nine.drop(columns=['label'])"
   ]
  },
  {
   "cell_type": "code",
   "execution_count": 9,
   "id": "0605b74e",
   "metadata": {},
   "outputs": [],
   "source": [
    "count = 200\n",
    "rdm_zero = zero.sample(count)\n",
    "rdm_one = one.sample(count)\n",
    "rdm_two = two.sample(count)\n",
    "rdm_three = three.sample(count)\n",
    "rdm_four = four.sample(count)\n",
    "rdm_five = five.sample(count)\n",
    "rdm_six = six.sample(count)\n",
    "rdm_seven = seven.sample(count)\n",
    "rdm_eight = eight.sample(count)\n",
    "rdm_nine = nine.sample(count)"
   ]
  },
  {
   "cell_type": "code",
   "execution_count": 10,
   "id": "dffbe92c",
   "metadata": {},
   "outputs": [],
   "source": [
    "sample_set = rdm_zero\n",
    "sample_set = sample_set.append(rdm_one)\n",
    "sample_set = sample_set.append(rdm_two)\n",
    "sample_set = sample_set.append(rdm_three)\n",
    "sample_set = sample_set.append(rdm_four)\n",
    "sample_set = sample_set.append(rdm_five)\n",
    "sample_set = sample_set.append(rdm_six)\n",
    "sample_set = sample_set.append(rdm_seven)\n",
    "sample_set = sample_set.append(rdm_eight)\n",
    "sample_set = sample_set.append(rdm_nine)"
   ]
  },
  {
   "cell_type": "code",
   "execution_count": 11,
   "id": "8c4c17d3",
   "metadata": {},
   "outputs": [],
   "source": [
    "class_zero = relabel(0, sample_set)\n",
    "class_one = relabel(1, sample_set)\n",
    "class_two = relabel(2, sample_set)\n",
    "class_three = relabel(3, sample_set)\n",
    "class_four = relabel(4, sample_set)\n",
    "class_five = relabel(5, sample_set)\n",
    "class_six = relabel(6, sample_set)\n",
    "class_seven = relabel(7, sample_set)\n",
    "class_eight = relabel(8, sample_set)\n",
    "class_nine = relabel(9, sample_set)"
   ]
  },
  {
   "cell_type": "code",
   "execution_count": 12,
   "id": "2b5a4d19",
   "metadata": {},
   "outputs": [],
   "source": [
    "w = [None] * 10\n",
    "b = [None] * 10\n",
    "v = [None] * 10\n",
    "l = [None] * 10\n",
    "[w[0], b[0], v[0], l[0]] = training(class_zero)\n",
    "[w[1], b[1], v[1], l[1]] = training(class_one)\n",
    "[w[2], b[2], v[2], l[2]] = training(class_two)\n",
    "[w[3], b[3], v[3], l[3]] = training(class_three)\n",
    "[w[4], b[4], v[4], l[4]] = training(class_four)\n",
    "[w[5], b[5], v[5], l[5]] = training(class_five)\n",
    "[w[6], b[6], v[6], l[6]] = training(class_six)\n",
    "[w[7], b[7], v[7], l[7]] = training(class_seven)\n",
    "[w[8], b[8], v[8], l[8]] = training(class_eight)\n",
    "[w[9], b[9], v[9], l[9]] = training(class_nine)"
   ]
  },
  {
   "cell_type": "code",
   "execution_count": 13,
   "id": "d6f25b14",
   "metadata": {
    "scrolled": true
   },
   "outputs": [
    {
     "data": {
      "text/plain": [
       "0.9415"
      ]
     },
     "execution_count": 13,
     "metadata": {},
     "output_type": "execute_result"
    }
   ],
   "source": [
    "testCut = testData.copy(deep=True)\n",
    "label = testCut['label']\n",
    "testCut.drop(columns = ['label'], inplace=True)\n",
    "testCut = testCut.values/255.0\n",
    "\n",
    "correct = 0\n",
    "for j in range(testCut.shape[0]):\n",
    "    piece = testCut[j]\n",
    "    result = [None] * 10\n",
    "    for i in range(10):\n",
    "        result[i] = svm_predict(piece, w[i], b[i], v[i], l[i])\n",
    "    value = result.index(max(result))\n",
    "    if (value == label[j]):\n",
    "        correct = correct + 1\n",
    "\n",
    "accuracy = correct / label.shape[0]\n",
    "accuracy"
   ]
  }
 ],
 "metadata": {
  "kernelspec": {
   "display_name": "Python 3 (ipykernel)",
   "language": "python",
   "name": "python3"
  },
  "language_info": {
   "codemirror_mode": {
    "name": "ipython",
    "version": 3
   },
   "file_extension": ".py",
   "mimetype": "text/x-python",
   "name": "python",
   "nbconvert_exporter": "python",
   "pygments_lexer": "ipython3",
   "version": "3.9.7"
  }
 },
 "nbformat": 4,
 "nbformat_minor": 5
}
