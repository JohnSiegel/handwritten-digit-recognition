{
 "cells": [
  {
   "cell_type": "code",
   "execution_count": 1,
   "id": "ee378fc6-0fc8-4262-8f84-c3aebf6b2d3e",
   "metadata": {
    "tags": []
   },
   "outputs": [],
   "source": [
    "import numpy as np\n",
    "import pandas as pd\n",
    "from joblib import Parallel, delayed\n",
    "import multiprocessing"
   ]
  },
  {
   "cell_type": "code",
   "execution_count": 2,
   "id": "45b84999-57a2-4040-8c45-baa9770b17b2",
   "metadata": {
    "tags": []
   },
   "outputs": [],
   "source": [
    "class KNN:\n",
    "    \n",
    "    def __init__(self, k, data_size=None):\n",
    "        self.k = k\n",
    "        self.data_size = data_size\n",
    "    \n",
    "    def fit(self, X, y):\n",
    "        if self.data_size is not None:\n",
    "            X = X[:self.data_size]\n",
    "            y = y[:self.data_size]\n",
    "        self.X_train = X\n",
    "        self.y_train = y\n",
    "    \n",
    "    def predict(self, X):\n",
    "        num_test = X.shape[0]\n",
    "        y_pred = np.zeros(num_test, dtype=self.y_train.dtype)\n",
    "        num_cores = multiprocessing.cpu_count()\n",
    "    \n",
    "        def get_k_nearest_labels(i):\n",
    "            distances = np.sum((self.X_train - X[i, :])**2, axis=1)\n",
    "            sorted_indices = np.argsort(distances)\n",
    "            k_nearest_labels = self.y_train[sorted_indices[:self.k]]\n",
    "            return np.bincount(k_nearest_labels).argmax()\n",
    "    \n",
    "        y_pred = Parallel(n_jobs=num_cores)(delayed(get_k_nearest_labels)(i) for i in range(num_test))\n",
    "    \n",
    "        return np.array(y_pred)"
   ]
  },
  {
   "cell_type": "code",
   "execution_count": 3,
   "id": "84096537-a3fe-40e7-bc6b-c3f4d6fd8c90",
   "metadata": {
    "tags": []
   },
   "outputs": [],
   "source": [
    "# Read the data\n",
    "train_data = pd.read_csv('train.csv')\n",
    "test_data = pd.read_csv('test.csv')\n",
    "\n",
    "# Extract the labels from the data\n",
    "train_labels = train_data['label'].values\n",
    "test_labels = test_data['label'].values\n",
    "\n",
    "# Normalize the pixel values\n",
    "train_data = (train_data.iloc[:, 1:].values / 255.0).astype(np.float32)\n",
    "test_data = (test_data.iloc[:, 1:].values / 255.0).astype(np.float32)\n"
   ]
  },
  {
   "cell_type": "code",
   "execution_count": 4,
   "id": "4b323d37-aab2-4f56-bc79-3e004cb66bca",
   "metadata": {
    "tags": []
   },
   "outputs": [
    {
     "name": "stdout",
     "output_type": "stream",
     "text": [
      "Best k value: 1\n"
     ]
    }
   ],
   "source": [
    "# Define a list of k values to try\n",
    "k_values = [1, 3, 5, 7, 9]\n",
    "\n",
    "# Perform k-fold cross validation to select the best k value\n",
    "num_folds = 5\n",
    "fold_size = train_data.shape[0] // num_folds\n",
    "accuracies = []\n",
    "\n",
    "for k in k_values:\n",
    "    knn = KNN(k=k, data_size=1000) # Use first 1000 samples for training\n",
    "    fold_accuracies = []\n",
    "    \n",
    "    for i in range(num_folds):\n",
    "        # Split the data into training and validation sets\n",
    "        start = i * fold_size\n",
    "        end = (i + 1) * fold_size\n",
    "        val_data = train_data[start:end]\n",
    "        val_labels = train_labels[start:end]\n",
    "        train_data_fold = np.concatenate([train_data[:start], train_data[end:]])\n",
    "        train_labels_fold = np.concatenate([train_labels[:start], train_labels[end:]])\n",
    "        \n",
    "        # Train the model on the training data\n",
    "        knn.fit(train_data_fold, train_labels_fold)\n",
    "        \n",
    "        # Evaluate the model on the validation data\n",
    "        y_val_pred = knn.predict(val_data)\n",
    "        fold_accuracy = np.mean(y_val_pred == val_labels)\n",
    "        fold_accuracies.append(fold_accuracy)\n",
    "    \n",
    "    # Compute the average accuracy across all folds for this k value\n",
    "    mean_accuracy = np.mean(fold_accuracies)\n",
    "    accuracies.append(mean_accuracy)\n",
    "\n",
    "# Select the best k value based on the highest validation accuracy\n",
    "best_k = k_values[np.argmax(accuracies)]\n",
    "print(\"Best k value:\", best_k)"
   ]
  },
  {
   "cell_type": "code",
   "execution_count": 5,
   "id": "b092f6ab-fbbd-48e5-a0ca-f0b99771a0aa",
   "metadata": {
    "tags": []
   },
   "outputs": [
    {
     "name": "stdout",
     "output_type": "stream",
     "text": [
      "Accuracy: 0.96175\n"
     ]
    }
   ],
   "source": [
    "# Train the model on the full training data using the best k value\n",
    "knn = KNN(k=best_k)\n",
    "knn.fit(train_data, train_labels)\n",
    "\n",
    "# Use the model to make predictions on the test data\n",
    "y_pred = knn.predict(test_data)\n",
    "\n",
    "# Evaluate the accuracy of the model\n",
    "accuracy = np.mean(y_pred == test_labels)\n",
    "print(\"Accuracy:\", accuracy)"
   ]
  },
  {
   "cell_type": "code",
   "execution_count": null,
   "id": "c1c802ff-7c08-46a6-96df-9a8a26cda9b9",
   "metadata": {},
   "outputs": [],
   "source": []
  }
 ],
 "metadata": {
  "kernelspec": {
   "display_name": "Python 3 (ipykernel)",
   "language": "python",
   "name": "python3"
  },
  "language_info": {
   "codemirror_mode": {
    "name": "ipython",
    "version": 3
   },
   "file_extension": ".py",
   "mimetype": "text/x-python",
   "name": "python",
   "nbconvert_exporter": "python",
   "pygments_lexer": "ipython3",
   "version": "3.10.5"
  }
 },
 "nbformat": 4,
 "nbformat_minor": 5
}
