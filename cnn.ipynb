{
 "cells": [
  {
   "cell_type": "code",
   "execution_count": 1,
   "metadata": {},
   "outputs": [],
   "source": [
    "import numpy as np\n",
    "from matplotlib import pyplot as plt\n",
    "from helpers import normalize_dataset"
   ]
  },
  {
   "cell_type": "code",
   "execution_count": 2,
   "metadata": {},
   "outputs": [],
   "source": [
    "def one_hot_encode(labels: np.ndarray):\n",
    "    '''\n",
    "    one-hot encode labels\n",
    "    @param labels 1D array of labels\n",
    "    \n",
    "    @return one-hot encoded labels\n",
    "    '''\n",
    "    casted_labels = labels.astype(int)\n",
    "    return np.eye(np.unique(casted_labels).shape[0])[casted_labels]\n",
    "\n",
    "def reshape_flat_square_images(images: np.ndarray):\n",
    "    '''\n",
    "    reshape to be a grayscale square\n",
    "    @param image N x TOTAL_PIXELS\n",
    "\n",
    "    @return N x 1 x HEIGHT x WIDTH\n",
    "    '''\n",
    "    dims = np.sqrt(images.shape[1])\n",
    "    if not dims.is_integer():\n",
    "        raise ValueError('Image is not square')\n",
    "    dims = int(dims)\n",
    "    return images.reshape(images.shape[0], 1, dims, dims)"
   ]
  },
  {
   "cell_type": "code",
   "execution_count": 3,
   "metadata": {},
   "outputs": [],
   "source": [
    "training = np.loadtxt(\"dataset/train.csv\",\n",
    "                 delimiter=\",\", dtype=str) # load training data\n",
    "training_labels = one_hot_encode(training[1:, 0]) # first column is labels\n",
    "training_data = reshape_flat_square_images(normalize_dataset(training[1:, 1:])) # rest of columns are data"
   ]
  },
  {
   "cell_type": "code",
   "execution_count": 4,
   "metadata": {},
   "outputs": [
    {
     "name": "stdout",
     "output_type": "stream",
     "text": [
      "# Training Samples: 38000\n",
      "# Classes: 10\n",
      "Image Height: 28\n",
      "Image Width: 28\n"
     ]
    },
    {
     "data": {
      "text/plain": [
       "<matplotlib.image.AxesImage at 0x1b47e4ae910>"
      ]
     },
     "execution_count": 4,
     "metadata": {},
     "output_type": "execute_result"
    },
    {
     "data": {
      "image/png": "[encoded data removed]",
      "text/plain": [
       "<Figure size 640x480 with 1 Axes>"
      ]
     },
     "metadata": {},
     "output_type": "display_data"
    }
   ],
   "source": [
    "print(\"# Training Samples: \" + str(training_labels.shape[0]))\n",
    "print(\"# Classes: \" + str(training_labels.shape[1]))\n",
    "print(\"Image Height: \" + str(training_data.shape[2]))\n",
    "print(\"Image Width: \" + str(training_data.shape[3]))\n",
    "plt.imshow(training_data[0, 0]) # show first image in training set"
   ]
  },
  {
   "cell_type": "code",
   "execution_count": 5,
   "metadata": {},
   "outputs": [],
   "source": [
    "def im2col(data: np.ndarray, conv: np.ndarray, stride: int, pad: int):\n",
    "    '''\n",
    "    transforms a batch of images into a matrix\n",
    "    \n",
    "    @param data N x 1 x HEIGHT x WIDTH input images\n",
    "    @param conv NUM_FILTERS x 1 x CONV_HEIGHT x CONV_WIDTH convolutional layer\n",
    "    @param stride number of pixels to move the filter each time\n",
    "    @param pad number of pixels to pad the image with\n",
    "\n",
    "    @return CONV_HEIGHT * CONV_WIDTH x NEW_WIDTH * NEW_HEIGHT * NUM_IMAGES matrix\n",
    "    '''\n",
    "    data_padded = np.pad(data, ((0,0), (0,0), (pad, pad), (pad, pad)), mode='constant')\n",
    "    num_images, num_channels, image_height, image_width = data_padded.shape\n",
    "    conv_height = conv.shape[2]\n",
    "    conv_width = conv.shape[3]\n",
    "    output_height = int((image_height + (2 * pad) - conv_height) / stride) + 1\n",
    "    output_width = int((image_width + (2 * pad) - conv_width) / stride) + 1\n",
    "    \n",
    "    # create a 4D view of the padded data to extract image patches\n",
    "    # view has shape (num_images, num_channels, output_height, output_width, conv_height, conv_width)\n",
    "    data_view = np.lib.stride_tricks.as_strided(data_padded,\n",
    "                                                shape=(num_images, num_channels, output_height, output_width, conv_height, conv_width),\n",
    "                                                strides=(data_padded.strides[0], data_padded.strides[1], \n",
    "                                                         stride * data_padded.strides[2], stride * data_padded.strides[3], \n",
    "                                                         data_padded.strides[2], data_padded.strides[3]))\n",
    "    \n",
    "    # reshape the view to a 2D array\n",
    "    # the shape of the array is (num_images * output_height * output_width, num_channels * conv_height * conv_width)\n",
    "    im2col_vector = data_view.reshape(num_images * output_height * output_width, num_channels * conv_height * conv_width)\n",
    "    \n",
    "    return im2col_vector.T # transpose the matrix to match the expected output shape\n",
    "\n",
    "def convolve(data: np.ndarray, im2col_result: np.ndarray, conv: np.ndarray, stride: int):\n",
    "    '''\n",
    "    convolves the data with the im2col result\n",
    "    @param data N x 1 x HEIGHT x WIDTH input images\n",
    "    @param im2col_result CONV_HEIGHT * CONV_WIDTH x NEW_WIDTH * NEW_HEIGHT * NUM_IMAGES matrix\n",
    "    @param conv NUM_FILTERS x 1 x CONV_HEIGHT x CONV_WIDTH convolutional layer\n",
    "    @param stride number of pixels to move the filter each time\n",
    "    \n",
    "    @return NUM_IMAGES x NUM_FILTERS x NEW_HEIGHT x NEW_WIDTH matrix\n",
    "    '''\n",
    "    num_images, _, height, width = data.shape\n",
    "    num_filters, _, conv_height, conv_width = conv.shape\n",
    "    new_height = int(((height - conv_height) / stride)) + 1\n",
    "    new_width = int(((width - conv_width) / stride)) + 1\n",
    "    \n",
    "    im2col_reshaped = im2col_result.reshape(conv_height * conv_width, new_width * new_height * num_images)\n",
    "    conv_reshaped = conv.reshape(num_filters, -1)\n",
    "    \n",
    "    output = np.empty((num_images, num_filters, new_height, new_width))\n",
    "    \n",
    "    for i in range(num_images):\n",
    "        convolved = conv_reshaped @ im2col_reshaped[:, i * new_height * new_width:(i + 1) * new_height * new_width]\n",
    "        output[i] = convolved.reshape(num_filters, new_height, new_width)\n",
    "    \n",
    "    return output"
   ]
  },
  {
   "cell_type": "code",
   "execution_count": 6,
   "metadata": {},
   "outputs": [
    {
     "data": {
      "text/plain": [
       "(2, 1, 5, 5)"
      ]
     },
     "metadata": {},
     "output_type": "display_data"
    }
   ],
   "source": [
    "num_filters = 2\n",
    "conv_filter_size = 5\n",
    "conv_stride = 1\n",
    "conv_layer = np.random.randn(num_filters, 1, conv_filter_size, conv_filter_size) * np.sqrt(1. / conv_filter_size)\n",
    "display(conv_layer.shape)"
   ]
  },
  {
   "cell_type": "code",
   "execution_count": 7,
   "metadata": {},
   "outputs": [
    {
     "data": {
      "text/plain": [
       "(25, 576)"
      ]
     },
     "metadata": {},
     "output_type": "display_data"
    }
   ],
   "source": [
    "single_im2col = im2col(training_data[0:1], conv_layer, conv_stride, 0)\n",
    "display(single_im2col.shape)"
   ]
  },
  {
   "cell_type": "code",
   "execution_count": 8,
   "metadata": {},
   "outputs": [
    {
     "data": {
      "text/plain": [
       "<matplotlib.image.AxesImage at 0x1b47e0d6e90>"
      ]
     },
     "execution_count": 8,
     "metadata": {},
     "output_type": "execute_result"
    },
    {
     "data": {
      "image/png": "[encoded data removed]",
      "text/plain": [
       "<Figure size 640x480 with 1 Axes>"
      ]
     },
     "metadata": {},
     "output_type": "display_data"
    }
   ],
   "source": [
    "single_conv = convolve(training_data[0:1], single_im2col, conv_layer, conv_stride)\n",
    "plt.imshow(single_conv[0, 0])\n",
    "plt.imshow(single_conv[0, 1])"
   ]
  },
  {
   "cell_type": "code",
   "execution_count": 9,
   "metadata": {},
   "outputs": [],
   "source": [
    "def ReLU(x: np.ndarray):\n",
    "    '''\n",
    "    Rectified Linear Unit activation function\n",
    "    \n",
    "    @param x input to the activation function\n",
    "    @return x if x > 0, 0 otherwise\n",
    "    '''\n",
    "    return (x>0)*x"
   ]
  }
 ],
 "metadata": {
  "kernelspec": {
   "display_name": "Python 3",
   "language": "python",
   "name": "python3"
  },
  "language_info": {
   "codemirror_mode": {
    "name": "ipython",
    "version": 3
   },
   "file_extension": ".py",
   "mimetype": "text/x-python",
   "name": "python",
   "nbconvert_exporter": "python",
   "pygments_lexer": "ipython3",
   "version": "3.11.2"
  },
  "orig_nbformat": 4
 },
 "nbformat": 4,
 "nbformat_minor": 2
}
