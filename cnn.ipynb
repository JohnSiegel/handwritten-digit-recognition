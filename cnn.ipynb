{
 "cells": [
  {
   "cell_type": "code",
   "execution_count": 109,
   "metadata": {},
   "outputs": [],
   "source": [
    "import numpy as np\n",
    "from matplotlib import pyplot as plt\n",
    "from helpers import normalize_dataset"
   ]
  },
  {
   "cell_type": "code",
   "execution_count": 110,
   "metadata": {},
   "outputs": [],
   "source": [
    "def one_hot_encode(labels: np.ndarray):\n",
    "    '''\n",
    "    one-hot encode labels\n",
    "    @param labels 1D array of labels\n",
    "    \n",
    "    @return one-hot encoded labels\n",
    "    '''\n",
    "    casted_labels = labels.astype(int)\n",
    "    return np.eye(np.unique(casted_labels).shape[0])[casted_labels]\n",
    "\n",
    "def reshape_flat_square_images(images: np.ndarray):\n",
    "    '''\n",
    "    reshape to be a grayscale square\n",
    "    @param image N x TOTAL_PIXELS\n",
    "\n",
    "    @return N x 1 x HEIGHT x WIDTH\n",
    "    '''\n",
    "    dims = np.sqrt(images.shape[1])\n",
    "    if not dims.is_integer():\n",
    "        raise ValueError('Image is not square')\n",
    "    dims = int(dims)\n",
    "    return images.reshape(images.shape[0], 1, dims, dims)"
   ]
  },
  {
   "cell_type": "code",
   "execution_count": 111,
   "metadata": {},
   "outputs": [],
   "source": [
    "training = np.loadtxt(\"dataset/train.csv\",\n",
    "                 delimiter=\",\", dtype=str) # load training data\n",
    "training_labels = one_hot_encode(training[1:, 0]) # first column is labels\n",
    "training_data = reshape_flat_square_images(normalize_dataset(training[1:, 1:])) # rest of columns are data"
   ]
  },
  {
   "cell_type": "code",
   "execution_count": 112,
   "metadata": {},
   "outputs": [
    {
     "name": "stdout",
     "output_type": "stream",
     "text": [
      "# Training Samples: 38000\n",
      "# Classes: 10\n",
      "Image Height: 28\n",
      "Image Width: 28\n"
     ]
    },
    {
     "data": {
      "text/plain": [
       "<matplotlib.image.AxesImage at 0x215b58b3450>"
      ]
     },
     "execution_count": 112,
     "metadata": {},
     "output_type": "execute_result"
    },
    {
     "data": {
      "image/png": "[encoded data removed]",
      "text/plain": [
       "<Figure size 640x480 with 1 Axes>"
      ]
     },
     "metadata": {},
     "output_type": "display_data"
    }
   ],
   "source": [
    "print(\"# Training Samples: \" + str(training_labels.shape[0]))\n",
    "print(\"# Classes: \" + str(training_labels.shape[1]))\n",
    "print(\"Image Height: \" + str(training_data.shape[2]))\n",
    "print(\"Image Width: \" + str(training_data.shape[3]))\n",
    "plt.imshow(training_data[0, 0]) # show first image in training set"
   ]
  },
  {
   "cell_type": "code",
   "execution_count": 113,
   "metadata": {},
   "outputs": [],
   "source": [
    "# Forward Propagation Functions\n",
    "\n",
    "def im2col(data: np.ndarray, conv: np.ndarray, stride: int, pad: int):\n",
    "    '''\n",
    "    transforms a batch of images into a matrix\n",
    "    \n",
    "    @param data N x 1 x HEIGHT x WIDTH input images\n",
    "    @param conv NUM_FILTERS x 1 x CONV_HEIGHT x CONV_WIDTH convolutional layer\n",
    "    @param stride number of pixels to move the filter each time\n",
    "    @param pad number of pixels to pad the image with\n",
    "\n",
    "    @return CONV_HEIGHT * CONV_WIDTH x NEW_WIDTH * NEW_HEIGHT * NUM_IMAGES matrix\n",
    "    '''\n",
    "    data_padded = np.pad(data, ((0,0), (0,0), (pad, pad), (pad, pad)), mode='constant')\n",
    "    num_images, num_channels, image_height, image_width = data_padded.shape\n",
    "    conv_height = conv.shape[2]\n",
    "    conv_width = conv.shape[3]\n",
    "    output_height = int((image_height + (2 * pad) - conv_height) / stride) + 1\n",
    "    output_width = int((image_width + (2 * pad) - conv_width) / stride) + 1\n",
    "    \n",
    "    # create a 4D view of the padded data to extract image patches\n",
    "    # view has shape (num_images, num_channels, output_height, output_width, conv_height, conv_width)\n",
    "    data_view = np.lib.stride_tricks.as_strided(data_padded,\n",
    "                                                shape=(num_images, num_channels, output_height, output_width, conv_height, conv_width),\n",
    "                                                strides=(data_padded.strides[0], data_padded.strides[1], \n",
    "                                                         stride * data_padded.strides[2], stride * data_padded.strides[3], \n",
    "                                                         data_padded.strides[2], data_padded.strides[3]))\n",
    "    \n",
    "    # reshape the view to a 2D array\n",
    "    # the shape of the array is (num_images * output_height * output_width, num_channels * conv_height * conv_width)\n",
    "    im2col_vector = data_view.reshape(num_images * output_height * output_width, num_channels * conv_height * conv_width)\n",
    "    \n",
    "    return im2col_vector.T # transpose the matrix to match the expected output shape\n",
    "\n",
    "def convolve(data: np.ndarray, im2col_result: np.ndarray, conv: np.ndarray, stride: int):\n",
    "    '''\n",
    "    convolves the data with the im2col result\n",
    "    @param data N x 1 x HEIGHT x WIDTH input images\n",
    "    @param im2col_result CONV_HEIGHT * CONV_WIDTH x NEW_WIDTH * NEW_HEIGHT * NUM_IMAGES matrix\n",
    "    @param conv NUM_FILTERS x 1 x CONV_HEIGHT x CONV_WIDTH convolutional layer\n",
    "    @param stride number of pixels to move the filter each time\n",
    "    \n",
    "    @return NUM_IMAGES x NUM_FILTERS x NEW_HEIGHT x NEW_WIDTH matrix\n",
    "    '''\n",
    "    num_images, _, height, width = data.shape\n",
    "    num_filters, _, conv_height, conv_width = conv.shape\n",
    "    new_height = int(((height - conv_height) / stride)) + 1\n",
    "    new_width = int(((width - conv_width) / stride)) + 1\n",
    "    \n",
    "    im2col_reshaped = im2col_result.reshape(conv_height * conv_width, new_width * new_height * num_images)\n",
    "    conv_reshaped = conv.reshape(num_filters, -1)\n",
    "    \n",
    "    output = np.empty((num_images, num_filters, new_height, new_width))\n",
    "    \n",
    "    for i in range(num_images):\n",
    "        convolved = conv_reshaped @ im2col_reshaped[:, i * new_height * new_width:(i + 1) * new_height * new_width]\n",
    "        output[i] = convolved.reshape(num_filters, new_height, new_width)\n",
    "    \n",
    "    return output\n",
    "\n",
    "def ReLU(x: np.ndarray):\n",
    "    '''\n",
    "    Rectified Linear Unit activation function\n",
    "    \n",
    "    @param x input to the activation function\n",
    "    @return x if x > 0, 0 otherwise\n",
    "    '''\n",
    "    return (x > 0) * x\n",
    "\n",
    "def maxpool_with_indices(data: np.ndarray, pool_size: int, stride: int):\n",
    "    '''\n",
    "    computes the maxpooling of the input data\n",
    "    @param data N x CHANNELS x HEIGHT x WIDTH input images\n",
    "    @param pool_size size of the pooling filter\n",
    "    @param stride number of pixels to move the filter each time\n",
    "    \n",
    "    @return A tuple (max_output, indices) where:\n",
    "            max_output is N x CHANNELS x NEW_HEIGHT x NEW_WIDTH matrix\n",
    "            indices is N x CHANNELS x NEW_HEIGHT x NEW_WIDTH x pool_size^2 matrix of indices\n",
    "    '''\n",
    "    # Get input shape\n",
    "    N, C, H, W = data.shape\n",
    "\n",
    "    # Compute output shape\n",
    "    OH = (H - pool_size) // stride + 1\n",
    "    OW = (W - pool_size) // stride + 1\n",
    "\n",
    "    # Pad input data to handle edge cases\n",
    "    pad_height = ((OH - 1) * stride + pool_size - H) // 2\n",
    "    pad_width = ((OW - 1) * stride + pool_size - W) // 2\n",
    "    data = np.pad(data, ((0, 0), (0, 0), (pad_height, pad_height), (pad_width, pad_width)), mode='constant')\n",
    "\n",
    "    # Create view of data with desired strides\n",
    "    data_strided = np.lib.stride_tricks.as_strided(data,\n",
    "                                                shape=(N, C, OH, OW, pool_size, pool_size),\n",
    "                                                strides=(data.strides[0],\n",
    "                                                         data.strides[1],\n",
    "                                                         stride * data.strides[2],\n",
    "                                                         stride * data.strides[3],\n",
    "                                                         data.strides[2],\n",
    "                                                         data.strides[3]))\n",
    "\n",
    "    # Compute max pooling and indices\n",
    "    max_output = np.max(data_strided, axis=(4, 5))\n",
    "    indices = np.argmax(data_strided, axis=4), np.argmax(data_strided, axis=5)\n",
    "    indices = np.ravel_multi_index(indices, (pool_size, pool_size))\n",
    "    idx_h, idx_w = np.unravel_index(indices, (pool_size, pool_size))\n",
    "    idx_h = idx_h.reshape(N, C, OH, OW, -1)\n",
    "    idx_w = idx_w.reshape(N, C, OH, OW, -1)\n",
    "    indices = np.concatenate((idx_h, idx_w), axis=-1)\n",
    "    \n",
    "    return max_output, indices\n",
    "\n",
    "def softmax(data: np.ndarray):\n",
    "    '''\n",
    "    Computes the softmax function for each row of the input x.\n",
    "    @param data N x D matrix where N is the number of samples and D is the number of classes\n",
    "    \n",
    "    @return N x D matrix where each row is a valid probability distribution\n",
    "    '''\n",
    "    data_exp = np.exp(data-np.max(data))\n",
    "    \n",
    "    return data_exp / np.sum(data_exp, axis=0)"
   ]
  },
  {
   "cell_type": "code",
   "execution_count": 114,
   "metadata": {},
   "outputs": [],
   "source": [
    "# Backpropagation Functions\n",
    "\n",
    "def dReLU(x: np.ndarray):\n",
    "    '''\n",
    "    Derivative of the Rectified Linear Unit activation function\n",
    "    @param x input to the activation function\n",
    "    \n",
    "    @return 1.0 if x > 0, 0 otherwise\n",
    "    '''\n",
    "    return (x > 0) * 1.0"
   ]
  },
  {
   "cell_type": "code",
   "execution_count": 115,
   "metadata": {},
   "outputs": [
    {
     "data": {
      "text/plain": [
       "(2, 1, 5, 5)"
      ]
     },
     "metadata": {},
     "output_type": "display_data"
    }
   ],
   "source": [
    "num_filters = 2\n",
    "conv_filter_size = 5\n",
    "conv_stride = 1\n",
    "conv_layer = np.random.randn(num_filters, 1, conv_filter_size, conv_filter_size) * np.sqrt(1. / conv_filter_size)\n",
    "display(conv_layer.shape)"
   ]
  },
  {
   "cell_type": "code",
   "execution_count": 116,
   "metadata": {},
   "outputs": [
    {
     "data": {
      "text/plain": [
       "(25, 576)"
      ]
     },
     "metadata": {},
     "output_type": "display_data"
    }
   ],
   "source": [
    "single_im2col = im2col(training_data[0:1], conv_layer, conv_stride, 0) # only use one image\n",
    "display(single_im2col.shape)"
   ]
  },
  {
   "cell_type": "code",
   "execution_count": 117,
   "metadata": {},
   "outputs": [
    {
     "data": {
      "text/plain": [
       "<matplotlib.image.AxesImage at 0x215be1398d0>"
      ]
     },
     "execution_count": 117,
     "metadata": {},
     "output_type": "execute_result"
    },
    {
     "data": {
      "image/png": "[encoded data removed]",
      "text/plain": [
       "<Figure size 640x480 with 1 Axes>"
      ]
     },
     "metadata": {},
     "output_type": "display_data"
    }
   ],
   "source": [
    "single_conv = convolve(training_data[0:1], single_im2col, conv_layer, conv_stride) # convolve the first training image with the first filter\n",
    "plt.imshow(single_conv[0, 0])"
   ]
  },
  {
   "cell_type": "code",
   "execution_count": 118,
   "metadata": {},
   "outputs": [
    {
     "data": {
      "text/plain": [
       "<matplotlib.image.AxesImage at 0x215bdfb06d0>"
      ]
     },
     "execution_count": 118,
     "metadata": {},
     "output_type": "execute_result"
    },
    {
     "data": {
      "image/png": "[encoded data removed]",
      "text/plain": [
       "<Figure size 640x480 with 1 Axes>"
      ]
     },
     "metadata": {},
     "output_type": "display_data"
    }
   ],
   "source": [
    "single_conv_out = ReLU(single_conv) # apply ReLU activation function\n",
    "plt.imshow(single_conv_out[0, 0])"
   ]
  },
  {
   "cell_type": "code",
   "execution_count": 119,
   "metadata": {},
   "outputs": [
    {
     "data": {
      "text/plain": [
       "<matplotlib.image.AxesImage at 0x215b58b3b50>"
      ]
     },
     "execution_count": 119,
     "metadata": {},
     "output_type": "execute_result"
    },
    {
     "data": {
      "image/png": "[encoded data removed]",
      "text/plain": [
       "<Figure size 640x480 with 1 Axes>"
      ]
     },
     "metadata": {},
     "output_type": "display_data"
    }
   ],
   "source": [
    "maxpool_size = 2\n",
    "maxpool_stride = 2\n",
    "single_maxpool, single_maxpool_indices = maxpool_with_indices(single_conv_out[0:1], maxpool_size, maxpool_stride) # maxpool the first image\n",
    "plt.imshow(single_maxpool[0, 0])"
   ]
  },
  {
   "cell_type": "code",
   "execution_count": 120,
   "metadata": {},
   "outputs": [
    {
     "data": {
      "text/plain": [
       "<matplotlib.image.AxesImage at 0x215b577d9d0>"
      ]
     },
     "execution_count": 120,
     "metadata": {},
     "output_type": "execute_result"
    },
    {
     "data": {
      "image/png": "[encoded data removed]",
      "text/plain": [
       "<Figure size 640x480 with 1 Axes>"
      ]
     },
     "metadata": {},
     "output_type": "display_data"
    }
   ],
   "source": [
    "single_maxpool_out = ReLU(single_maxpool) # apply ReLU activation function\n",
    "plt.imshow(single_maxpool_out[0, 0])"
   ]
  },
  {
   "cell_type": "code",
   "execution_count": 121,
   "metadata": {},
   "outputs": [],
   "source": [
    "# initialize weights and biases\n",
    "W1 = np.random.rand(60, 288) / np.sqrt(288)\n",
    "B0 = np.zeros((60, 1)) / np.sqrt(288)\n",
    "W2 = np.random.rand(10, 60) / np.sqrt(60)\n",
    "B1 = np.zeros((10, 1)) / np.sqrt(60)"
   ]
  },
  {
   "cell_type": "code",
   "execution_count": 122,
   "metadata": {},
   "outputs": [
    {
     "data": {
      "text/plain": [
       "(60, 1)"
      ]
     },
     "metadata": {},
     "output_type": "display_data"
    }
   ],
   "source": [
    "flat_single_maxpool_out = single_maxpool_out.reshape(-1, single_maxpool_out.shape[0]) # flatten the output of the maxpool layer\n",
    "single_fully_connected = ReLU(W1 @ flat_single_maxpool_out + B0) # apply the first fully connected layer\n",
    "display(single_fully_connected.shape)"
   ]
  },
  {
   "cell_type": "code",
   "execution_count": 126,
   "metadata": {},
   "outputs": [
    {
     "name": "stdout",
     "output_type": "stream",
     "text": [
      "Final prediction: 5\n",
      "Correct label: 8\n"
     ]
    }
   ],
   "source": [
    "single_final = np.argmax(softmax(W2 @ single_fully_connected + B1)) # apply the second fully connected layer\n",
    "print(\"Final prediction: \" + str(single_final))\n",
    "print(\"Correct label: \" + str(np.argmax(training_labels[0], axis=0)))"
   ]
  },
  {
   "cell_type": "code",
   "execution_count": null,
   "metadata": {},
   "outputs": [],
   "source": []
  }
 ],
 "metadata": {
  "kernelspec": {
   "display_name": "Python 3",
   "language": "python",
   "name": "python3"
  },
  "language_info": {
   "codemirror_mode": {
    "name": "ipython",
    "version": 3
   },
   "file_extension": ".py",
   "mimetype": "text/x-python",
   "name": "python",
   "nbconvert_exporter": "python",
   "pygments_lexer": "ipython3",
   "version": "3.11.2"
  },
  "orig_nbformat": 4
 },
 "nbformat": 4,
 "nbformat_minor": 2
}
