{
 "cells": [
  {
   "cell_type": "code",
   "execution_count": null,
   "metadata": {},
   "outputs": [],
   "source": [
    "import numpy as np\n",
    "from naive_bayes import gaussNaiveBayes"
   ]
  },
  {
   "cell_type": "code",
   "execution_count": null,
   "metadata": {},
   "outputs": [],
   "source": [
    "training = np.loadtxt(\"dataset/train.csv\",\n",
    "                 delimiter=\",\", dtype=str)\n",
    "training_labels = training[1:, 0]\n",
    "training_data = training[1:, 1:].astype(float) / 255\n",
    "\n",
    "display(training_labels)\n",
    "display(training_data)"
   ]
  },
  {
   "cell_type": "code",
   "execution_count": null,
   "metadata": {},
   "outputs": [],
   "source": [
    "gnb = gaussNaiveBayes()\n",
    "gnb.fit(training_data, training_labels)"
   ]
  },
  {
   "cell_type": "code",
   "execution_count": null,
   "metadata": {},
   "outputs": [],
   "source": [
    "test = np.loadtxt(\"dataset/test.csv\",\n",
    "                 delimiter=\",\", dtype=str)\n",
    "test_labels = test[1:, 0]\n",
    "test_data = test[1:, 1:].astype(float) / 255\n",
    "\n",
    "display(test_labels)\n",
    "display(test_data)"
   ]
  },
  {
   "cell_type": "code",
   "execution_count": null,
   "metadata": {},
   "outputs": [],
   "source": [
    "gnb.predict(test_data, test_labels)\n",
    "print(\"Test Data Accuracy: \", gnb.accuracy)\n",
    "\n",
    "gnb.predict(training_data, training_labels)\n",
    "print(\"Training Data Accuracy: \", gnb.accuracy)"
   ]
  }
 ],
 "metadata": {
  "kernelspec": {
   "display_name": "Python 3",
   "language": "python",
   "name": "python3"
  },
  "language_info": {
   "codemirror_mode": {
    "name": "ipython",
    "version": 3
   },
   "file_extension": ".py",
   "mimetype": "text/x-python",
   "name": "python",
   "nbconvert_exporter": "python",
   "pygments_lexer": "ipython3",
   "version": "3.11.2"
  },
  "orig_nbformat": 4
 },
 "nbformat": 4,
 "nbformat_minor": 2
}
