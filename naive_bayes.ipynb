{
 "cells": [
  {
   "cell_type": "code",
   "execution_count": 1,
   "metadata": {},
   "outputs": [],
   "source": [
    "import numpy as np\n",
    "import math\n",
    "from matplotlib import pyplot as plt\n",
    "from helpers import normalize_dataset"
   ]
  },
  {
   "cell_type": "code",
   "execution_count": 2,
   "metadata": {},
   "outputs": [],
   "source": [
    "training = np.loadtxt(\"dataset/train.csv\",\n",
    "                 delimiter=\",\", dtype=str) # load training data\n",
    "training_labels = training[1:, 0].astype(int) # first column is labels\n",
    "training_data = normalize_dataset(training[1:, 1:]) # rest of columns are data"
   ]
  },
  {
   "cell_type": "code",
   "execution_count": 3,
   "metadata": {},
   "outputs": [
    {
     "name": "stdout",
     "output_type": "stream",
     "text": [
      "Class Frequencies: \n",
      "Class 0: 9.82%\n",
      "Class 1: 11.15%\n",
      "Class 2: 9.86%\n",
      "Class 3: 10.48%\n",
      "Class 4: 9.69%\n",
      "Class 5: 8.99%\n",
      "Class 6: 9.8%\n",
      "Class 7: 10.51%\n",
      "Class 8: 9.68%\n",
      "Class 9: 10.02%\n"
     ]
    }
   ],
   "source": [
    "classes, class_counts = np.unique(training_labels, return_counts=True)  # get classes and number of samples per class\n",
    "class_frequencies = dict(zip(classes, class_counts / training_labels.shape[0])) # calculate class frequencies\n",
    "print(\"Class Frequencies: \")\n",
    "for class_type in classes:\n",
    "    print(\"Class \" + str(class_type) + \": \" + str(round(class_frequencies[class_type] * 100, 2)) + \"%\")"
   ]
  },
  {
   "cell_type": "code",
   "execution_count": 4,
   "metadata": {},
   "outputs": [],
   "source": [
    "# split data by class\n",
    "split_data = {cls: training_data[np.argwhere(training_labels == cls), :][:, 0] for cls in classes}"
   ]
  },
  {
   "cell_type": "code",
   "execution_count": 5,
   "metadata": {},
   "outputs": [],
   "source": [
    "# calculate means and standard deviations for each class\n",
    "means, std = (np.array(arr) for arr in zip(*[(np.mean(split_data[cls], axis=0), np.std(split_data[cls], axis=0)) for cls in classes]))"
   ]
  },
  {
   "cell_type": "code",
   "execution_count": 6,
   "metadata": {},
   "outputs": [],
   "source": [
    "# calculate log of class frequencies\n",
    "log_frequencies = -np.log(np.array([class_frequencies[cls] for cls in classes]))"
   ]
  },
  {
   "cell_type": "code",
   "execution_count": 7,
   "metadata": {},
   "outputs": [],
   "source": [
    "def predict(input: np.ndarray, input_labels: np.ndarray, alpha: float = 0.0151):\n",
    "    '''\n",
    "    Predicts the class of a given input\n",
    "    @param input N x TOTAL_PIXELS\n",
    "    @param input_labels N-length 1D array of labels\n",
    "    @param alpha hyperparameter for smoothing\n",
    "    \n",
    "    @return (dict of class -> accuracy of class, average accuracy of predictions)\n",
    "    '''\n",
    "    predictions = []\n",
    "    # for each sample\n",
    "    for sample_index in range(input.shape[0]):\n",
    "        exponent = -(((input[sample_index] - means) ** 2) / (2 * (std ** 2 + alpha)))\n",
    "        log_prob = np.sum(exponent - np.log(np.sqrt(2 * math.pi * (std ** 2 + alpha))), axis=1) + log_frequencies\n",
    "        # per class log probability of sample\n",
    "        sample_predictions = dict(zip(classes, log_prob))\n",
    "        # get class with highest probability\n",
    "        max_val = -np.inf\n",
    "        prediction = None\n",
    "        for cls in classes:\n",
    "            value = sample_predictions[cls]\n",
    "            if value > max_val:\n",
    "                prediction = cls\n",
    "                max_val = value\n",
    "        predictions.append(prediction)\n",
    "    # calculate accuracy\n",
    "    class_accuracies = {}\n",
    "    for cls in classes:\n",
    "        label_mask = input_labels == cls\n",
    "        class_accuracies[cls] = np.sum(label_mask[np.array(predictions) == cls]) / np.sum(label_mask)\n",
    "    return class_accuracies, np.mean(predictions == input_labels)"
   ]
  },
  {
   "cell_type": "code",
   "execution_count": 8,
   "metadata": {},
   "outputs": [
    {
     "name": "stdout",
     "output_type": "stream",
     "text": [
      "Training Data Accuracy: \n",
      "Class 0: 89.76%\n",
      "Class 1: 96.58%\n",
      "Class 2: 75.23%\n",
      "Class 3: 75.66%\n",
      "Class 4: 65.76%\n",
      "Class 5: 62.7%\n",
      "Class 6: 91.84%\n",
      "Class 7: 81.39%\n",
      "Class 8: 73.56%\n",
      "Class 9: 86.55%\n",
      "Overall Accuracy: 80.29%\n"
     ]
    }
   ],
   "source": [
    "# predict on training data\n",
    "training_class_accuracies, training_overall_accuracy = predict(training_data, training_labels)\n",
    "print(\"Training Data Accuracy: \")\n",
    "for cls in classes:\n",
    "    print(\"Class \" + str(cls) + \": \" + str(round(training_class_accuracies[cls] * 100, 2)) + \"%\")\n",
    "print(\"Overall Accuracy: \" + str(round(training_overall_accuracy * 100, 2)) + \"%\")"
   ]
  },
  {
   "cell_type": "code",
   "execution_count": 9,
   "metadata": {},
   "outputs": [],
   "source": [
    "testing = np.loadtxt(\"dataset/test.csv\",\n",
    "                 delimiter=\",\", dtype=str) # load test data\n",
    "testing_labels = testing[1:, 0].astype(int) # first column is labels\n",
    "testing_data = normalize_dataset(testing[1:, 1:]) # rest of columns are data"
   ]
  },
  {
   "cell_type": "code",
   "execution_count": 10,
   "metadata": {},
   "outputs": [
    {
     "name": "stdout",
     "output_type": "stream",
     "text": [
      "Testing Data Accuracy: \n",
      "Class 0: 90.5%\n",
      "Class 1: 96.86%\n",
      "Class 2: 77.44%\n",
      "Class 3: 76.49%\n",
      "Class 4: 67.87%\n",
      "Class 5: 60.16%\n",
      "Class 6: 91.28%\n",
      "Class 7: 81.91%\n",
      "Class 8: 75.72%\n",
      "Class 9: 87.14%\n",
      "Overall Accuracy: 80.9%\n"
     ]
    }
   ],
   "source": [
    "# predict on testing data\n",
    "testing_class_accuracies, testing_overall_accuracy = predict(testing_data, testing_labels)\n",
    "print(\"Testing Data Accuracy: \")\n",
    "for cls in classes:\n",
    "    print(\"Class \" + str(cls) + \": \" + str(round(testing_class_accuracies[cls] * 100, 2)) + \"%\")\n",
    "print(\"Overall Accuracy: \" + str(round(testing_overall_accuracy * 100, 2)) + \"%\")"
   ]
  },
  {
   "cell_type": "code",
   "execution_count": 11,
   "metadata": {},
   "outputs": [
    {
     "name": "stdout",
     "output_type": "stream",
     "text": [
      "Best accuracy: 80.9\n",
      "Best alpha: 0.015099999999999978\n"
     ]
    },
    {
     "data": {
      "text/plain": [
       "[<matplotlib.lines.Line2D at 0x23b8cfd3450>]"
      ]
     },
     "execution_count": 11,
     "metadata": {},
     "output_type": "execute_result"
    },
    {
     "data": {
      "image/png": "[encoded data removed]",
      "text/plain": [
       "<Figure size 640x480 with 1 Axes>"
      ]
     },
     "metadata": {},
     "output_type": "display_data"
    }
   ],
   "source": [
    "# fine-tuning alpha\n",
    "start_alpha = 0.002\n",
    "step = 1e-4\n",
    "end_alpha = 0.02\n",
    "alphas = np.arange(start_alpha, end_alpha, step)\n",
    "accuracies = []\n",
    "best_accuracy = -np.inf\n",
    "best_alpha = None\n",
    "for alpha in alphas:\n",
    "    _, accuracy = predict(testing_data, testing_labels, alpha)\n",
    "    accuracy *= 100\n",
    "    accuracies.append(accuracy)\n",
    "    if accuracy > best_accuracy:\n",
    "        best_accuracy = accuracy\n",
    "        best_alpha = alpha\n",
    "        \n",
    "print(\"Best accuracy: \" + str(best_accuracy))\n",
    "print(\"Best alpha: \" + str(best_alpha))\n",
    "\n",
    "plt.xlabel(\"Alpha\")\n",
    "plt.ylabel(\"Accuracy (%)\")\n",
    "plt.plot(alphas, accuracies)"
   ]
  }
 ],
 "metadata": {
  "kernelspec": {
   "display_name": "Python 3",
   "language": "python",
   "name": "python3"
  },
  "language_info": {
   "codemirror_mode": {
    "name": "ipython",
    "version": 3
   },
   "file_extension": ".py",
   "mimetype": "text/x-python",
   "name": "python",
   "nbconvert_exporter": "python",
   "pygments_lexer": "ipython3",
   "version": "3.11.2"
  },
  "orig_nbformat": 4
 },
 "nbformat": 4,
 "nbformat_minor": 2
}
