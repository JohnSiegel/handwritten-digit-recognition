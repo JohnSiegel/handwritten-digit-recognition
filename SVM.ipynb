{
 "cells": [
  {
   "cell_type": "code",
   "execution_count": 1,
   "id": "5ecdf702",
   "metadata": {},
   "outputs": [],
   "source": [
    "import numpy as np\n",
    "import pandas as pd"
   ]
  },
  {
   "cell_type": "code",
   "execution_count": 128,
   "id": "60839c43",
   "metadata": {},
   "outputs": [],
   "source": [
    "def kvm_fit(data, label, iters, lr, lambda_param):\n",
    "    n_samples, n_features = data.shape\n",
    "    y_ = np.where(label <= 0, -1, 1)\n",
    "    w = np.zeros(n_features)\n",
    "    b = 0\n",
    "    for _ in range(iters):\n",
    "        for idx, x_i in enumerate(data):\n",
    "            condition = y_[idx] * (np.dot(x_i, w) - b) >= 1\n",
    "            if condition:\n",
    "                w -= lr * (2 * lambda_param * w)\n",
    "            else:\n",
    "                w -= lr * (2 * lambda_param * w - np.dot(x_i, y_[idx]))\n",
    "                b -= lr * y_[idx]\n",
    "    return w, b"
   ]
  },
  {
   "cell_type": "code",
   "execution_count": 242,
   "id": "8d1d5ce9",
   "metadata": {},
   "outputs": [],
   "source": [
    "trainData = pd.read_csv('train.csv')\n",
    "testData = pd.read_csv('test.csv')"
   ]
  },
  {
   "cell_type": "code",
   "execution_count": 241,
   "id": "3c0af1b4",
   "metadata": {},
   "outputs": [],
   "source": [
    "group = trainData.groupby('label')\n",
    "zero = pd.DataFrame(group.get_group(0))\n",
    "one = pd.DataFrame(group.get_group(1))\n",
    "two = pd.DataFrame(group.get_group(2))\n",
    "three = pd.DataFrame(group.get_group(3))\n",
    "four = pd.DataFrame(group.get_group(4))\n",
    "five = pd.DataFrame(group.get_group(5))\n",
    "six = pd.DataFrame(group.get_group(6))\n",
    "seven = pd.DataFrame(group.get_group(7))\n",
    "eight = pd.DataFrame(group.get_group(8))\n",
    "nine = pd.DataFrame(group.get_group(9))"
   ]
  },
  {
   "cell_type": "code",
   "execution_count": 53,
   "id": "95bf2211",
   "metadata": {},
   "outputs": [],
   "source": [
    "zero_data = zero.drop(columns=['label'])\n",
    "one_data = one.drop(columns=['label'])\n",
    "two_data = two.drop(columns=['label'])\n",
    "three_data = three.drop(columns=['label'])\n",
    "four_data = four.drop(columns=['label'])\n",
    "five_data = five.drop(columns=['label'])\n",
    "six_data = six.drop(columns=['label'])\n",
    "seven_data = seven.drop(columns=['label'])\n",
    "eight_data = eight.drop(columns=['label'])\n",
    "nine_data = nine.drop(columns=['label'])"
   ]
  },
  {
   "cell_type": "code",
   "execution_count": 74,
   "id": "0605b74e",
   "metadata": {},
   "outputs": [],
   "source": [
    "rdm_zero = zero.sample(100)\n",
    "rdm_one = one.sample(100)\n",
    "rdm_two = two.sample(100)\n",
    "rdm_three = three.sample(100)\n",
    "rdm_four = four.sample(100)\n",
    "rdm_five = five.sample(100)\n",
    "rdm_six = six.sample(100)\n",
    "rdm_seven = seven.sample(100)\n",
    "rdm_eight = eight.sample(100)\n",
    "rdm_nine = nine.sample(100)"
   ]
  },
  {
   "cell_type": "code",
   "execution_count": 240,
   "id": "dffbe92c",
   "metadata": {},
   "outputs": [],
   "source": [
    "sample_set = rdm_zero\n",
    "sample_set = sample_set.append(rdm_one)\n",
    "sample_set = sample_set.append(rdm_two)\n",
    "sample_set = sample_set.append(rdm_three)\n",
    "sample_set = sample_set.append(rdm_four)\n",
    "sample_set = sample_set.append(rdm_five)\n",
    "sample_set = sample_set.append(rdm_six)\n",
    "sample_set = sample_set.append(rdm_seven)\n",
    "sample_set = sample_set.append(rdm_eight)\n",
    "sample_set = sample_set.append(rdm_nine)"
   ]
  },
  {
   "cell_type": "code",
   "execution_count": 90,
   "id": "0aeca582",
   "metadata": {},
   "outputs": [],
   "source": [
    "def relabel(num, sample_set):\n",
    "    binary = sample_set.copy(deep=True)\n",
    "    binary.loc[binary['label'] != num, 'label'] = -1\n",
    "    binary.loc[binary['label'] == num, 'label'] = 1\n",
    "    return binary"
   ]
  },
  {
   "cell_type": "code",
   "execution_count": 170,
   "id": "8c4c17d3",
   "metadata": {},
   "outputs": [],
   "source": [
    "class_zero = relabel(0, sample_set)\n",
    "class_one = relabel(1, sample_set)\n",
    "class_two = relabel(2, sample_set)\n",
    "class_three = relabel(3, sample_set)\n",
    "class_four = relabel(4, sample_set)\n",
    "class_five = relabel(5, sample_set)\n",
    "class_six = relabel(6, sample_set)\n",
    "class_seven = relabel(7, sample_set)\n",
    "class_eight = relabel(8, sample_set)\n",
    "class_nine = relabel(9, sample_set)"
   ]
  },
  {
   "cell_type": "code",
   "execution_count": 179,
   "id": "4ed01109",
   "metadata": {},
   "outputs": [],
   "source": [
    "def training(data):\n",
    "    raw_set = data.copy(deep=True)\n",
    "    raw_set_label = raw_set['label']\n",
    "    raw_set_label = raw_set_label.values\n",
    "    raw_set_data = raw_set.drop(columns=['label'], inplace=True)\n",
    "    raw_set_data = raw_set.values/255.0\n",
    "    [w,b] = kvm_fit(raw_set_data, raw_set_label, 1000, 0.001, 0.01)\n",
    "    return w, b"
   ]
  },
  {
   "cell_type": "code",
   "execution_count": 200,
   "id": "2b5a4d19",
   "metadata": {},
   "outputs": [],
   "source": [
    "w = [None] * 10\n",
    "b = [None] * 10\n",
    "[w[0], b[0]] = training(class_zero)\n",
    "[w[1], b[1]] = training(class_one)\n",
    "[w[2], b[2]] = training(class_two)\n",
    "[w[3], b[3]] = training(class_three)\n",
    "[w[4], b[4]] = training(class_four)\n",
    "[w[5], b[5]] = training(class_five)\n",
    "[w[6], b[6]] = training(class_six)\n",
    "[w[7], b[7]] = training(class_seven)\n",
    "[w[8], b[8]] = training(class_eight)\n",
    "[w[9], b[9]] = training(class_nine)"
   ]
  },
  {
   "cell_type": "code",
   "execution_count": 181,
   "id": "191239ae",
   "metadata": {},
   "outputs": [],
   "source": [
    "def svm_predict(data, w, b):\n",
    "    approx = np.dot(data, w) - b\n",
    "    return approx"
   ]
  },
  {
   "cell_type": "code",
   "execution_count": 246,
   "id": "d6f25b14",
   "metadata": {
    "scrolled": true
   },
   "outputs": [
    {
     "data": {
      "text/plain": [
       "0.79325"
      ]
     },
     "execution_count": 246,
     "metadata": {},
     "output_type": "execute_result"
    }
   ],
   "source": [
    "testCut = testData.copy(deep=True)\n",
    "label = testCut['label']\n",
    "testCut.drop(columns = ['label'], inplace=True)\n",
    "testCut = testCut.values/255.0\n",
    "\n",
    "correct = 0\n",
    "for j in range(testCut.shape[0]):\n",
    "    piece = testCut[j]\n",
    "    result = [None] * 10\n",
    "    for i in range(10):\n",
    "        result[i] = svm_predict(piece, w[i], b[i])\n",
    "    value = result.index(max(result))\n",
    "    if (value == label[j]):\n",
    "        correct = correct + 1\n",
    "\n",
    "accuracy = correct / label.shape[0]\n",
    "accuracy"
   ]
  },
  {
   "cell_type": "code",
   "execution_count": null,
   "id": "cd544ffb",
   "metadata": {},
   "outputs": [],
   "source": []
  }
 ],
 "metadata": {
  "kernelspec": {
   "display_name": "Python 3 (ipykernel)",
   "language": "python",
   "name": "python3"
  },
  "language_info": {
   "codemirror_mode": {
    "name": "ipython",
    "version": 3
   },
   "file_extension": ".py",
   "mimetype": "text/x-python",
   "name": "python",
   "nbconvert_exporter": "python",
   "pygments_lexer": "ipython3",
   "version": "3.9.7"
  }
 },
 "nbformat": 4,
 "nbformat_minor": 5
}
