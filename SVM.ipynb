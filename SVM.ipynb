{
 "cells": [
  {
   "cell_type": "code",
   "execution_count": 40,
   "id": "f63cd05c",
   "metadata": {},
   "outputs": [],
   "source": [
    "import numpy as np\n",
    "import pandas as pd\n",
    "from quadprog_wrapper import solve_quadprog\n",
    "from sklearn.preprocessing import scale"
   ]
  },
  {
   "cell_type": "code",
   "execution_count": 41,
   "id": "4b27cab0",
   "metadata": {},
   "outputs": [],
   "source": [
    "def polynomial_kernel(row_data, col_data, order):\n",
    "    # Obtain the gram matrix\n",
    "    K = (np.dot(row_data.T, col_data) + 1) ** order\n",
    "    return K"
   ]
  },
  {
   "cell_type": "code",
   "execution_count": 42,
   "id": "45fbaa5c",
   "metadata": {},
   "outputs": [],
   "source": [
    "def rbf_kernel(row, col, order):\n",
    "    K = np.exp(-(np.sum(row_data ** 2, axis=0, keepdims=True).T + np.sum(col_data ** 2, axis=0) - 2 * row_data.T.dot(col_data)) / (2 * sigma ** 2))\n",
    "    return K"
   ]
  },
  {
   "cell_type": "code",
   "execution_count": 43,
   "id": "5ceb6208",
   "metadata": {},
   "outputs": [],
   "source": [
    "def linear_kernel(row, col):\n",
    "    return row_data.T.dot(col_data)"
   ]
  },
  {
   "cell_type": "code",
   "execution_count": 52,
   "id": "8123580d",
   "metadata": {},
   "outputs": [],
   "source": [
    "def kernal_svm_train(data, labels, params):\n",
    "    if params['kernel'] == 'rbf':\n",
    "        gram_matrix = rbf_kernel(data, data, params['sigma'])\n",
    "    elif params['kernel'] == 'polynomial':\n",
    "        gram_matrix = polynomial_kernel(data, data, params['order'])\n",
    "    else:\n",
    "        gram_matrix = linear_kernel(data, data)\n",
    "    \n",
    "    print(gram_matrix.shape)\n",
    "    n = gram_matrix.shape[0]\n",
    "    hessian = np.outer(labels, labels) * gram_matrix\n",
    "    weights = np.ones(n)\n",
    "    eq_coeffs = np.zeros((1, n))\n",
    "    eq_coeffs[0, :] = labels\n",
    "    eq_constants = np.zeros(1)\n",
    "\n",
    "    lower_bounds = np.zeros(n)\n",
    "    upper_bounds = params['C']\n",
    "    alphas = solve_quadprog(hessian, weights, eq_coeffs, eq_constants, None,\n",
    "                            None, lower_bounds, upper_bounds)\n",
    "    model = dict()\n",
    "    tolerance = 1e-6\n",
    "    sv_indices = alphas > tolerance\n",
    "    model['support_vectors'] = data[:, sv_indices]\n",
    "    model['alphas'] = alphas[sv_indices]\n",
    "    model['params'] = params  # store the kernel type and parameters\n",
    "    model['sv_labels'] = labels[sv_indices]\n",
    "\n",
    "    # find all alphas that represent points on the decision margin\n",
    "    margin_alphas = np.logical_and(\n",
    "        alphas > tolerance, alphas < params['C'] - tolerance)\n",
    "\n",
    "    # compute the bias value\n",
    "    if np.any(margin_alphas):\n",
    "        model['bias'] = np.mean(\n",
    "            labels[margin_alphas].T - (alphas * labels).T.dot(gram_matrix[:, margin_alphas]))\n",
    "    else:\n",
    "        # there were no support vectors on the margin (this should only happen due to numerical errors)\n",
    "        model['bias'] = 0\n",
    "\n",
    "    return model"
   ]
  },
  {
   "cell_type": "code",
   "execution_count": 45,
   "id": "5eddebd1",
   "metadata": {},
   "outputs": [],
   "source": [
    "def kernel_svm_predict(data, model):\n",
    "    if model['params']['kernel'] == 'rbf':\n",
    "        gram_matrix = rbf_kernel(data, model['support_vectors'], model['params']['sigma'])\n",
    "    elif model['params']['kernel'] == 'polynomial':\n",
    "        gram_matrix = polynomial_kernel(data, model['support_vectors'], model['params']['order'])\n",
    "    else:\n",
    "        # use a linear kernel by default\n",
    "        gram_matrix = linear_kernel(data, model['support_vectors'])\n",
    "\n",
    "    scores = gram_matrix.dot(\n",
    "        model['alphas'] * model['sv_labels']) + model['bias']\n",
    "    scores = scores.ravel()\n",
    "\n",
    "    labels = 2 * (scores > 0) - 1  # threshold and map to {-1, 1}\n",
    "\n",
    "    return labels, scores"
   ]
  },
  {
   "cell_type": "code",
   "execution_count": 48,
   "id": "bb820b96",
   "metadata": {},
   "outputs": [],
   "source": [
    "trainData = pd.read_csv('train.csv')\n",
    "testData = pd.read_csv('test.csv')\n",
    "trainLabel = trainData.label\n",
    "testLabel = testData.label\n",
    "trainPixel = trainData.drop(columns = 'label')\n",
    "testPixel = testData.drop(columns = 'label')"
   ]
  },
  {
   "cell_type": "code",
   "execution_count": 51,
   "id": "2715e4eb",
   "metadata": {},
   "outputs": [
    {
     "name": "stdout",
     "output_type": "stream",
     "text": [
      "(784, 784)\n"
     ]
    },
    {
     "ename": "ValueError",
     "evalue": "operands could not be broadcast together with shapes (38000,38000) (784,784) ",
     "output_type": "error",
     "traceback": [
      "\u001b[1;31m---------------------------------------------------------------------------\u001b[0m",
      "\u001b[1;31mValueError\u001b[0m                                Traceback (most recent call last)",
      "\u001b[1;32mC:\\Users\\QIYUAN~1\\AppData\\Local\\Temp/ipykernel_10812/2293949271.py\u001b[0m in \u001b[0;36m<module>\u001b[1;34m\u001b[0m\n\u001b[0;32m      1\u001b[0m \u001b[0mparams\u001b[0m \u001b[1;33m=\u001b[0m \u001b[1;33m{\u001b[0m\u001b[1;34m'kernel'\u001b[0m\u001b[1;33m:\u001b[0m \u001b[1;34m'polynomial'\u001b[0m\u001b[1;33m,\u001b[0m \u001b[1;34m'C'\u001b[0m\u001b[1;33m:\u001b[0m \u001b[1;36m1.0\u001b[0m\u001b[1;33m,\u001b[0m \u001b[1;34m'order'\u001b[0m\u001b[1;33m:\u001b[0m \u001b[1;36m2\u001b[0m\u001b[1;33m}\u001b[0m\u001b[1;33m\u001b[0m\u001b[1;33m\u001b[0m\u001b[0m\n\u001b[1;32m----> 2\u001b[1;33m \u001b[0msvm_model\u001b[0m \u001b[1;33m=\u001b[0m \u001b[0mkernal_svm_train\u001b[0m\u001b[1;33m(\u001b[0m\u001b[0mtrainPixel\u001b[0m\u001b[1;33m,\u001b[0m \u001b[0mtrainLabel\u001b[0m\u001b[1;33m,\u001b[0m \u001b[0mparams\u001b[0m\u001b[1;33m)\u001b[0m\u001b[1;33m\u001b[0m\u001b[1;33m\u001b[0m\u001b[0m\n\u001b[0m\u001b[0;32m      3\u001b[0m \u001b[0mpredictions\u001b[0m\u001b[1;33m,\u001b[0m \u001b[0m_\u001b[0m \u001b[1;33m=\u001b[0m \u001b[0mkernel_svm_predict\u001b[0m\u001b[1;33m(\u001b[0m\u001b[0mtestPixel\u001b[0m\u001b[1;33m,\u001b[0m \u001b[0msvm_model\u001b[0m\u001b[1;33m)\u001b[0m\u001b[1;33m\u001b[0m\u001b[1;33m\u001b[0m\u001b[0m\n\u001b[0;32m      4\u001b[0m \u001b[0mtest_accuracy\u001b[0m \u001b[1;33m=\u001b[0m \u001b[0mnp\u001b[0m\u001b[1;33m.\u001b[0m\u001b[0mmean\u001b[0m\u001b[1;33m(\u001b[0m\u001b[0mpredictions\u001b[0m \u001b[1;33m==\u001b[0m \u001b[0mtestLabel\u001b[0m\u001b[1;33m)\u001b[0m\u001b[1;33m\u001b[0m\u001b[1;33m\u001b[0m\u001b[0m\n\u001b[0;32m      5\u001b[0m \u001b[0mtest_accuracy\u001b[0m\u001b[1;33m\u001b[0m\u001b[1;33m\u001b[0m\u001b[0m\n",
      "\u001b[1;32mC:\\Users\\QIYUAN~1\\AppData\\Local\\Temp/ipykernel_10812/3629204919.py\u001b[0m in \u001b[0;36mkernal_svm_train\u001b[1;34m(data, labels, params)\u001b[0m\n\u001b[0;32m     11\u001b[0m     \u001b[0mprint\u001b[0m\u001b[1;33m(\u001b[0m\u001b[0mgram_matrix\u001b[0m\u001b[1;33m.\u001b[0m\u001b[0mshape\u001b[0m\u001b[1;33m)\u001b[0m\u001b[1;33m\u001b[0m\u001b[1;33m\u001b[0m\u001b[0m\n\u001b[0;32m     12\u001b[0m     \u001b[0mn\u001b[0m \u001b[1;33m=\u001b[0m \u001b[0mgram_matrix\u001b[0m\u001b[1;33m.\u001b[0m\u001b[0mshape\u001b[0m\u001b[1;33m[\u001b[0m\u001b[1;36m0\u001b[0m\u001b[1;33m]\u001b[0m\u001b[1;33m\u001b[0m\u001b[1;33m\u001b[0m\u001b[0m\n\u001b[1;32m---> 13\u001b[1;33m     \u001b[0mhessian\u001b[0m \u001b[1;33m=\u001b[0m \u001b[0mnp\u001b[0m\u001b[1;33m.\u001b[0m\u001b[0mouter\u001b[0m\u001b[1;33m(\u001b[0m\u001b[0mlabels\u001b[0m\u001b[1;33m,\u001b[0m \u001b[0mlabels\u001b[0m\u001b[1;33m)\u001b[0m \u001b[1;33m*\u001b[0m \u001b[0mgram_matrix\u001b[0m\u001b[1;33m\u001b[0m\u001b[1;33m\u001b[0m\u001b[0m\n\u001b[0m\u001b[0;32m     14\u001b[0m     \u001b[0mweights\u001b[0m \u001b[1;33m=\u001b[0m \u001b[0mnp\u001b[0m\u001b[1;33m.\u001b[0m\u001b[0mones\u001b[0m\u001b[1;33m(\u001b[0m\u001b[0mn\u001b[0m\u001b[1;33m)\u001b[0m\u001b[1;33m\u001b[0m\u001b[1;33m\u001b[0m\u001b[0m\n\u001b[0;32m     15\u001b[0m     \u001b[0meq_coeffs\u001b[0m \u001b[1;33m=\u001b[0m \u001b[0mnp\u001b[0m\u001b[1;33m.\u001b[0m\u001b[0mzeros\u001b[0m\u001b[1;33m(\u001b[0m\u001b[1;33m(\u001b[0m\u001b[1;36m1\u001b[0m\u001b[1;33m,\u001b[0m \u001b[0mn\u001b[0m\u001b[1;33m)\u001b[0m\u001b[1;33m)\u001b[0m\u001b[1;33m\u001b[0m\u001b[1;33m\u001b[0m\u001b[0m\n",
      "\u001b[1;31mValueError\u001b[0m: operands could not be broadcast together with shapes (38000,38000) (784,784) "
     ]
    }
   ],
   "source": [
    "params = {'kernel': 'polynomial', 'C': 1.0, 'order': 2}\n",
    "svm_model = kernal_svm_train(trainPixel, trainLabel, params)\n",
    "predictions, _ = kernel_svm_predict(testPixel, svm_model)\n",
    "test_accuracy = np.mean(predictions == testLabel)\n",
    "test_accuracy"
   ]
  },
  {
   "cell_type": "code",
   "execution_count": null,
   "id": "9c61134e",
   "metadata": {},
   "outputs": [],
   "source": [
    "params = {'kernel': 'rbf', 'C': 1.0, 'sigma': 0.5}\n",
    "svm_model = kernal_svm_train(trainPixel, trainLabel, params)\n",
    "predictions, _ = kernel_svm_predict(testPixel, svm_model)\n",
    "test_accuracy = np.mean(predictions == testLabel)\n",
    "test_accuracy"
   ]
  }
 ],
 "metadata": {
  "kernelspec": {
   "display_name": "Python 3 (ipykernel)",
   "language": "python",
   "name": "python3"
  },
  "language_info": {
   "codemirror_mode": {
    "name": "ipython",
    "version": 3
   },
   "file_extension": ".py",
   "mimetype": "text/x-python",
   "name": "python",
   "nbconvert_exporter": "python",
   "pygments_lexer": "ipython3",
   "version": "3.9.7"
  }
 },
 "nbformat": 4,
 "nbformat_minor": 5
}
